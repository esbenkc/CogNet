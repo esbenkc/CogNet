{
 "cells": [
  {
   "cell_type": "code",
   "execution_count": 1,
   "metadata": {},
   "outputs": [],
   "source": [
    "import json\n",
    "import hashlib\n",
    "import pickle\n",
    "import numpy as np\n",
    "import random\n",
    "import string\n",
    "import os\n",
    "import shutil\n",
    "import subprocess\n",
    "import sys\n",
    "import pandas as pd\n",
    "from zipfile import ZipFile\n",
    "from collections import Counter\n",
    "from pathlib import Path"
   ]
  },
  {
   "cell_type": "code",
   "execution_count": 16,
   "metadata": {},
   "outputs": [],
   "source": [
    "def unzip_msg_files(zip_path, target_dir):\n",
    "    with ZipFile(zip_path, 'r') as zipObj:\n",
    "        # Get a list of all archived file names from the zip\n",
    "        all_files = zipObj.namelist()\n",
    "        for file in all_files:\n",
    "            if file.endswith(\".json\"):\n",
    "                zipObj.extract(file, target_dir)\n",
    "                \n",
    "def read_json(file):\n",
    "    with open(file, \"r\") as f:\n",
    "        return json.load(f)\n",
    "    \n",
    "def read_convo(file):\n",
    "    \"\"\"reads conversation json file to dict \"\"\"\n",
    "    return json.loads(read_json(file))\n",
    "\n",
    "def hash_name(name):\n",
    "    \"\"\" simplified version (no salt) \"\"\"\n",
    "    return hashlib.sha1(name.encode()).hexdigest()\n",
    "\n",
    "def create_group_id(groupchat):\n",
    "    \"\"\"creates a group id based on participant names\"\"\"\n",
    "    participant_string = \"\".join(sorted(groupchat[\"participants\"]))\n",
    "    return hash_name(participant_string)\n",
    "\n",
    "def find_most_common(participant_list):\n",
    "    \"\"\"finds most common element in list \"\"\"\n",
    "    return Counter(participant_list).most_common(1)[0][0]\n",
    "\n",
    "\n",
    "def fix_dropout_dict(data_path):    \n",
    "    \"\"\"adds name to dropout dict as well as fixes keyv\"\"\"\n",
    "    file_generator = Path(data_path).glob(\"*.json\")\n",
    "    data_files = [file for file in file_generator if file.name != \"dropout.json\"]\n",
    "\n",
    "\n",
    "    participant_list = []\n",
    "    for file in data_files:\n",
    "        temp_dict = json.loads(read_json(file))\n",
    "        participant_list.extend(temp_dict[\"participants\"])\n",
    "\n",
    "    if (Path(data_path) / \"dropout.json\").exists():\n",
    "        dropout_dict = read_json(Path(data_path) / \"dropout.json\")\n",
    "        dropout_dict[\"still_cogsci\"] = dropout_dict.pop(\"is_dropout\")\n",
    "        dropout_dict[\"name\"] = find_most_common(participant_list)\n",
    "    else:\n",
    "        dropout_dict = {\"still_cogsci\": None, \"name\":\"No dropout file available\"}\n",
    "    return dropout_dict\n",
    "\n",
    "def add_reactions(msg, rel_list):\n",
    "    \"\"\" Appends reaction to a reaction list (preprocessing step) \"\"\"\n",
    "    if \"reactions\" in msg.keys():\n",
    "        for reaction in msg[\"reactions\"]:\n",
    "            reaction_dict = {\"from\": reaction, \n",
    "                             \"to\": msg[\"sender_name\"], \n",
    "                             \"timestamp\": msg[\"timestamp_ms\"], \n",
    "                             \"rel_type\": \"reaction\"}\n",
    "            rel_list.append(reaction_dict)\n",
    "\n",
    "            \n",
    "            \n",
    "def create_member_edges(group_convo, group_id):\n",
    "    \"\"\" Create participant --> group relations for a conversation \"\"\"\n",
    "    return pd.DataFrame({\"from\": group_convo[\"participants\"], \n",
    "                          \"to\": group_id, \n",
    "                          \"timestamp\": np.nan, \n",
    "                          \"rel_type\": \"group\"})\n",
    "\n",
    "def process_group_messages(group_convo, group_id):\n",
    "    \"\"\" Create a nice dataframe with all the messages from group chat\"\"\"\n",
    "    group_msgs = pd.DataFrame(index=range(len(test_group[\"messages\"])), \n",
    "                              columns=[\"from\", \"to\", \"timestamp\", \"rel_type\"])\n",
    "    group_msgs = group_msgs.assign(to = group_id, rel_type = \"msg\")\n",
    "    rel_list = []\n",
    "    for i, msg in enumerate(test_group[\"messages\"]):\n",
    "        group_msgs.loc[i, \"from\"] = msg[\"sender_name\"]\n",
    "        group_msgs.loc[i, \"timestamp\"] = msg[\"timestamp_ms\"]\n",
    "        add_reactions(msg, rel_list)\n",
    "    return pd.concat([group_msgs, pd.DataFrame(rel_list)])\n",
    "\n",
    "def process_group_edges(group_convo):\n",
    "    \"\"\" Full pipeline for processing group chats \"\"\"\n",
    "    group_id = create_group_id(group_convo)\n",
    "    group_msgs = process_group_messages(group_convo, group_id)\n",
    "    group_members = create_member_edges(group_convo, group_id)\n",
    "    return pd.concat([group_msgs, group_members]).reset_index(drop=True)\n",
    "\n",
    "\n",
    "def process_msgs(convo):\n",
    "    \"\"\" Processes messages and returns a nice dataframe :)) \"\"\"\n",
    "    msgs = pd.DataFrame(index=range(len(test_chat[\"messages\"])), \n",
    "                        columns=[\"from\", \"to\", \"timestamp\", \"rel_type\"])\n",
    "    msgs = msgs.assign(rel_type = \"msg\")\n",
    "    rel_list\n",
    "    for i, msg in enumerate(test_chat[\"messages\"]):\n",
    "        if \"call_duration\" in msg.keys():\n",
    "            continue\n",
    "        msgs.loc[i, \"from\"] = msg[\"sender_name\"]\n",
    "        msgs.loc[i, \"to\"] = msg[\"receiver_name\"]\n",
    "        msgs.loc[i, \"timestamp\"] = msg[\"timestamp_ms\"]\n",
    "        add_reactions(msg, rel_list)\n",
    "    return pd.concat([msgs.dropna(subset=[\"from\"])\n",
    "                            , pd.DataFrame(rel_list)])"
   ]
  },
  {
   "cell_type": "code",
   "execution_count": 17,
   "metadata": {},
   "outputs": [],
   "source": [
    "data_dir = Path(\"./data\")\n",
    "\n",
    "data_files = data_dir.glob(\"*.zip\")\n",
    "for file in data_files:\n",
    "    data_target = data_dir / f\"{file.name[:-4]}_unzipped\"\n",
    "    unzip_msg_files(file, data_target)"
   ]
  },
  {
   "cell_type": "code",
   "execution_count": 18,
   "metadata": {},
   "outputs": [],
   "source": [
    "data_path = list(data_dir.glob(\"./*unzipped/\"))[0]"
   ]
  },
  {
   "cell_type": "code",
   "execution_count": 19,
   "metadata": {},
   "outputs": [
    {
     "output_type": "error",
     "ename": "IndexError",
     "evalue": "list index out of range",
     "traceback": [
      "\u001b[1;31m---------------------------------------------------------------------------\u001b[0m",
      "\u001b[1;31mIndexError\u001b[0m                                Traceback (most recent call last)",
      "\u001b[1;32m<ipython-input-19-c9c318ed6857>\u001b[0m in \u001b[0;36m<module>\u001b[1;34m\u001b[0m\n\u001b[0;32m      1\u001b[0m \u001b[0munzipped_dirs\u001b[0m \u001b[1;33m=\u001b[0m \u001b[0mdata_dir\u001b[0m\u001b[1;33m.\u001b[0m\u001b[0mglob\u001b[0m\u001b[1;33m(\u001b[0m\u001b[1;34m\"./*unzipped/\"\u001b[0m\u001b[1;33m)\u001b[0m\u001b[1;33m\u001b[0m\u001b[1;33m\u001b[0m\u001b[0m\n\u001b[1;32m----> 2\u001b[1;33m \u001b[0mdropout_dicts\u001b[0m \u001b[1;33m=\u001b[0m \u001b[1;33m[\u001b[0m\u001b[0mfix_dropout_dict\u001b[0m\u001b[1;33m(\u001b[0m\u001b[0mdat_dir\u001b[0m\u001b[1;33m)\u001b[0m \u001b[1;32mfor\u001b[0m \u001b[0mdat_dir\u001b[0m \u001b[1;32min\u001b[0m \u001b[0munzipped_dirs\u001b[0m\u001b[1;33m]\u001b[0m\u001b[1;33m\u001b[0m\u001b[1;33m\u001b[0m\u001b[0m\n\u001b[0m",
      "\u001b[1;32m<ipython-input-19-c9c318ed6857>\u001b[0m in \u001b[0;36m<listcomp>\u001b[1;34m(.0)\u001b[0m\n\u001b[0;32m      1\u001b[0m \u001b[0munzipped_dirs\u001b[0m \u001b[1;33m=\u001b[0m \u001b[0mdata_dir\u001b[0m\u001b[1;33m.\u001b[0m\u001b[0mglob\u001b[0m\u001b[1;33m(\u001b[0m\u001b[1;34m\"./*unzipped/\"\u001b[0m\u001b[1;33m)\u001b[0m\u001b[1;33m\u001b[0m\u001b[1;33m\u001b[0m\u001b[0m\n\u001b[1;32m----> 2\u001b[1;33m \u001b[0mdropout_dicts\u001b[0m \u001b[1;33m=\u001b[0m \u001b[1;33m[\u001b[0m\u001b[0mfix_dropout_dict\u001b[0m\u001b[1;33m(\u001b[0m\u001b[0mdat_dir\u001b[0m\u001b[1;33m)\u001b[0m \u001b[1;32mfor\u001b[0m \u001b[0mdat_dir\u001b[0m \u001b[1;32min\u001b[0m \u001b[0munzipped_dirs\u001b[0m\u001b[1;33m]\u001b[0m\u001b[1;33m\u001b[0m\u001b[1;33m\u001b[0m\u001b[0m\n\u001b[0m",
      "\u001b[1;32m<ipython-input-16-7daabf8fb7ab>\u001b[0m in \u001b[0;36mfix_dropout_dict\u001b[1;34m(data_path)\u001b[0m\n\u001b[0;32m     43\u001b[0m         \u001b[0mdropout_dict\u001b[0m \u001b[1;33m=\u001b[0m \u001b[0mread_json\u001b[0m\u001b[1;33m(\u001b[0m\u001b[0mPath\u001b[0m\u001b[1;33m(\u001b[0m\u001b[0mdata_path\u001b[0m\u001b[1;33m)\u001b[0m \u001b[1;33m/\u001b[0m \u001b[1;34m\"dropout.json\"\u001b[0m\u001b[1;33m)\u001b[0m\u001b[1;33m\u001b[0m\u001b[1;33m\u001b[0m\u001b[0m\n\u001b[0;32m     44\u001b[0m         \u001b[0mdropout_dict\u001b[0m\u001b[1;33m[\u001b[0m\u001b[1;34m\"still_cogsci\"\u001b[0m\u001b[1;33m]\u001b[0m \u001b[1;33m=\u001b[0m \u001b[0mdropout_dict\u001b[0m\u001b[1;33m.\u001b[0m\u001b[0mpop\u001b[0m\u001b[1;33m(\u001b[0m\u001b[1;34m\"is_dropout\"\u001b[0m\u001b[1;33m)\u001b[0m\u001b[1;33m\u001b[0m\u001b[1;33m\u001b[0m\u001b[0m\n\u001b[1;32m---> 45\u001b[1;33m         \u001b[0mdropout_dict\u001b[0m\u001b[1;33m[\u001b[0m\u001b[1;34m\"name\"\u001b[0m\u001b[1;33m]\u001b[0m \u001b[1;33m=\u001b[0m \u001b[0mfind_most_common\u001b[0m\u001b[1;33m(\u001b[0m\u001b[0mparticipant_list\u001b[0m\u001b[1;33m)\u001b[0m\u001b[1;33m\u001b[0m\u001b[1;33m\u001b[0m\u001b[0m\n\u001b[0m\u001b[0;32m     46\u001b[0m     \u001b[1;32melse\u001b[0m\u001b[1;33m:\u001b[0m\u001b[1;33m\u001b[0m\u001b[1;33m\u001b[0m\u001b[0m\n\u001b[0;32m     47\u001b[0m         \u001b[0mdropout_dict\u001b[0m \u001b[1;33m=\u001b[0m \u001b[1;33m{\u001b[0m\u001b[1;34m\"still_cogsci\"\u001b[0m\u001b[1;33m:\u001b[0m \u001b[1;32mNone\u001b[0m\u001b[1;33m,\u001b[0m \u001b[1;34m\"name\"\u001b[0m\u001b[1;33m:\u001b[0m\u001b[1;34m\"No dropout file available\"\u001b[0m\u001b[1;33m}\u001b[0m\u001b[1;33m\u001b[0m\u001b[1;33m\u001b[0m\u001b[0m\n",
      "\u001b[1;32m<ipython-input-16-7daabf8fb7ab>\u001b[0m in \u001b[0;36mfind_most_common\u001b[1;34m(participant_list)\u001b[0m\n\u001b[0;32m     26\u001b[0m \u001b[1;32mdef\u001b[0m \u001b[0mfind_most_common\u001b[0m\u001b[1;33m(\u001b[0m\u001b[0mparticipant_list\u001b[0m\u001b[1;33m)\u001b[0m\u001b[1;33m:\u001b[0m\u001b[1;33m\u001b[0m\u001b[1;33m\u001b[0m\u001b[0m\n\u001b[0;32m     27\u001b[0m     \u001b[1;34m\"\"\"finds most common element in list \"\"\"\u001b[0m\u001b[1;33m\u001b[0m\u001b[1;33m\u001b[0m\u001b[0m\n\u001b[1;32m---> 28\u001b[1;33m     \u001b[1;32mreturn\u001b[0m \u001b[0mCounter\u001b[0m\u001b[1;33m(\u001b[0m\u001b[0mparticipant_list\u001b[0m\u001b[1;33m)\u001b[0m\u001b[1;33m.\u001b[0m\u001b[0mmost_common\u001b[0m\u001b[1;33m(\u001b[0m\u001b[1;36m1\u001b[0m\u001b[1;33m)\u001b[0m\u001b[1;33m[\u001b[0m\u001b[1;36m0\u001b[0m\u001b[1;33m]\u001b[0m\u001b[1;33m\u001b[0m\u001b[1;33m\u001b[0m\u001b[0m\n\u001b[0m\u001b[0;32m     29\u001b[0m \u001b[1;33m\u001b[0m\u001b[0m\n\u001b[0;32m     30\u001b[0m \u001b[1;33m\u001b[0m\u001b[0m\n",
      "\u001b[1;31mIndexError\u001b[0m: list index out of range"
     ]
    }
   ],
   "source": [
    "unzipped_dirs = data_dir.glob(\"./*unzipped/\")\n",
    "dropout_dicts = [fix_dropout_dict(dat_dir) for dat_dir in unzipped_dirs] "
   ]
  },
  {
   "cell_type": "code",
   "execution_count": 140,
   "metadata": {},
   "outputs": [],
   "source": [
    "dropout_dict = fix_dropout_dict(data_path)"
   ]
  },
  {
   "cell_type": "code",
   "execution_count": 37,
   "metadata": {},
   "outputs": [],
   "source": [
    "test_groupchat = data_target / \"0TW8SR0DHVLTOC3HT5E58WKKWOJFIFX5.json\"\n",
    "test_chatname = data_target / \"9Q9QMR3VY9P1VHO8W5OO1JJUB239MY8C.json\"\n",
    "test_group = read_convo(test_groupchat)\n",
    "test_chat = read_convo(test_chatname)"
   ]
  },
  {
   "cell_type": "code",
   "execution_count": 96,
   "metadata": {},
   "outputs": [],
   "source": [
    "msgs = pd.DataFrame(index=range(len(test_chat[\"messages\"])), \n",
    "                    columns=[\"from\", \"to\", \"timestamp\", \"rel_type\"])\n",
    "msgs = msgs.assign(rel_type = \"msg\")\n",
    "rel_list\n",
    "for i, msg in enumerate(test_chat[\"messages\"]):\n",
    "    if \"call_duration\" in msg.keys():\n",
    "        continue\n",
    "    msgs.loc[i, \"from\"] = msg[\"sender_name\"]\n",
    "    msgs.loc[i, \"to\"] = msg[\"receiver_name\"]\n",
    "    msgs.loc[i, \"timestamp\"] = msg[\"timestamp_ms\"]\n",
    "    add_reactions(msg, rel_list)\n",
    "final_msgs = pd.concat([msgs.dropna(subset=[\"from\"])\n",
    "                        , pd.DataFrame(rel_list)])"
   ]
  }
 ],
 "metadata": {
  "kernelspec": {
   "name": "python383jvsc74a57bd0b3ba2566441a7c06988d0923437866b63cedc61552a5af99d1f4fb67d367b25f",
   "display_name": "Python 3.8.3 64-bit ('base': conda)"
  },
  "language_info": {
   "codemirror_mode": {
    "name": "ipython",
    "version": 3
   },
   "file_extension": ".py",
   "mimetype": "text/x-python",
   "name": "python",
   "nbconvert_exporter": "python",
   "pygments_lexer": "ipython3",
   "version": "3.8.3"
  }
 },
 "nbformat": 4,
 "nbformat_minor": 4
}